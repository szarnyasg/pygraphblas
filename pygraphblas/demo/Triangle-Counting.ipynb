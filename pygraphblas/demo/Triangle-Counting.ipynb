{
 "cells": [
  {
   "cell_type": "markdown",
   "metadata": {},
   "source": [
    "# Triangle Counting\n",
    "\n",
    "These are translations of the methods for triangle counting from LAGraph_tricount()"
   ]
  },
  {
   "cell_type": "code",
   "execution_count": 83,
   "metadata": {
    "tags": []
   },
   "outputs": [
    {
     "output_type": "stream",
     "name": "stdout",
     "text": "1\n"
    }
   ],
   "source": [
    "from pygraphblas import *\n",
    "\n",
    "# number of persons\n",
    "Npersons = 4\n",
    "Ncities = 3\n",
    "Ncountries = 2\n",
    "\n",
    "# isPartOf\n",
    "IPO = Matrix.from_lists(\n",
    "    [0, 1, 2],\n",
    "    [0, 0, 1],\n",
    "    [1]*Ncities, Ncities, Ncountries\n",
    ")\n",
    "\n",
    "# isLocatedIn\n",
    "ILI = Matrix.from_lists(\n",
    "    [0, 1, 2, 3],\n",
    "    [0, 1, 0, 2],\n",
    "    [1]*Npersons, Npersons, Ncities\n",
    ")\n",
    "\n",
    "# knows\n",
    "Nknows = 5\n",
    "K = Matrix.from_lists(\n",
    "    [0, 1, 2, 3, 3],\n",
    "    [1, 2, 0, 0, 2],\n",
    "    [1]*Nknows, Npersons, Npersons\n",
    "    )\n",
    "K = K + K.transpose()\n",
    "L = K.tril()\n",
    "\n",
    "# start from country 0\n",
    "sel = Vector.from_lists([0], [1], Ncountries)\n",
    "selPersons = sel.vxm(IPO.transpose()).vxm(ILI.transpose())\n",
    "d_ind = selPersons.to_lists()[0]\n",
    "Sel = Matrix.from_lists(d_ind, d_ind, [1]*len(d_ind), Npersons, Npersons)\n",
    "K_filtered = Sel.mxm(K).mxm(Sel)\n",
    "\n",
    "K_filtered_tril = K_filtered.tril()\n",
    "\n",
    "Triangles = K_filtered_tril.mxm(K_filtered_tril, mask=K_filtered_tril)\n",
    "\n",
    "sum = Triangles.reduce_vector().reduce_int()\n",
    "\n",
    "print(sum)"
   ]
  }
 ],
 "metadata": {
  "kernelspec": {
   "display_name": "Python 3",
   "language": "python",
   "name": "python3"
  },
  "language_info": {
   "codemirror_mode": {
    "name": "ipython",
    "version": 3
   },
   "file_extension": ".py",
   "mimetype": "text/x-python",
   "name": "python",
   "nbconvert_exporter": "python",
   "pygments_lexer": "ipython3",
   "version": "3.6.9-final"
  }
 },
 "nbformat": 4,
 "nbformat_minor": 2
}