{
 "cells": [
  {
   "cell_type": "markdown",
   "execution_count": 1,
   "metadata": {},
   "outputs": [
    {
     "ename": "SyntaxError",
     "evalue": "invalid syntax (<ipython-input-1-460187cd907a>, line 3)",
     "output_type": "error",
     "traceback": [
      "\u001b[0;36m  File \u001b[0;32m\"<ipython-input-1-460187cd907a>\"\u001b[0;36m, line \u001b[0;32m3\u001b[0m\n\u001b[0;31m    http://ceur-ws.org/Vol-1305/\u001b[0m\n\u001b[0m          ^\u001b[0m\n\u001b[0;31mSyntaxError\u001b[0m\u001b[0;31m:\u001b[0m invalid syntax\n"
     ]
    }
   ],
   "source": [
    "# TTC 2014 Movie Database case\n",
    "\n",
    "<http://ceur-ws.org/Vol-1305/>"
   ]
  },
  {
   "cell_type": "code",
   "execution_count": 0,
   "metadata": {},
   "outputs": [],
   "source": [
    "from pygraphblas import *\n",
    "\n",
    "# task 1: generate test data\n",
    "\n",
    "# bipartite matrix \"PLAYS IN\" consisting of 10N persons x 10N movies\n",
    "N = 10\n",
    "A = Matrix.from_type(INT64, 10*N, 10*N)\n",
    "for n in range(0, N):\n",
    "    # positive pattern: persons 0-4\n",
    "    A[10*n+0, 10*n+0] = 1; A[10*n+0, 10*n+1] = 1; A[10*n+0, 10*n+2] = 1; A[10*n+0, 10*n+3] = 1\n",
    "    A[10*n+1, 10*n+0] = 1; A[10*n+1, 10*n+1] = 1; A[10*n+1, 10*n+2] = 1; A[10*n+1, 10*n+3] = 1\n",
    "    A[10*n+2, 10*n+1] = 1; A[10*n+2, 10*n+2] = 1; A[10*n+2, 10*n+3] = 1\n",
    "    A[10*n+3, 10*n+1] = 1; A[10*n+3, 10*n+2] = 1; A[10*n+3, 10*n+3] = 1; A[10*n+3, 10*n+4] = 1\n",
    "    A[10*n+4, 10*n+1] = 1; A[10*n+4, 10*n+2] = 1; A[10*n+4, 10*n+3] = 1; A[10*n+4, 10*n+4] = 1\n",
    "\n",
    "    # negative pattern: persons 5-9\n",
    "    A[10*n+5, 10*n+5] = 1; A[10*n+5, 10*n+6] = 1\n",
    "    A[10*n+6, 10*n+5] = 1; A[10*n+6, 10*n+6] = 1; A[10*n+6, 10*n+7] = 1\n",
    "    A[10*n+7, 10*n+6] = 1; A[10*n+7, 10*n+7] = 1; A[10*n+7, 10*n+8] = 1\n",
    "    A[10*n+8, 10*n+7] = 1; A[10*n+8, 10*n+8] = 1; A[10*n+8, 10*n+9] = 1\n",
    "    A[10*n+9, 10*n+8] = 1; A[10*n+9, 10*n+9] = 1\n",
    "\n",
    "# force building the matrix\n",
    "A.nvals\n",
    "\n",
    "\n",
    "# task 2: compute pairs of actors who participated in more than 3 films\n",
    "B = A.mxm(A.transpose()).offdiag().select('>=', 3)"
   ]
  },
  {
   "cell_type": "markdown",
   "execution_count": 7,
   "metadata": {},
   "outputs": [
    {
     "ename": "SyntaxError",
     "evalue": "invalid syntax (<ipython-input-7-6d0f907aa209>, line 3)",
     "output_type": "error",
     "traceback": [
      "\u001b[0;36m  File \u001b[0;32m\"<ipython-input-7-6d0f907aa209>\"\u001b[0;36m, line \u001b[0;32m3\u001b[0m\n\u001b[0;31m    <http://ceur-ws.org/Vol-2310/>\u001b[0m\n\u001b[0m    ^\u001b[0m\n\u001b[0;31mSyntaxError\u001b[0m\u001b[0;31m:\u001b[0m invalid syntax\n"
     ]
    }
   ],
   "source": [
    "# TTC 2018 Social Media live case\n",
    "\n",
    "<http://ceur-ws.org/Vol-2310/>"
   ]
  },
  {
   "cell_type": "code",
   "execution_count": 0,
   "metadata": {},
   "outputs": [],
   "source": [
    "from pygraphblas import *\n",
    "\n",
    "nComments = 3\n",
    "nUsers = 4\n",
    "\n",
    "Likes = Matrix.from_type(INT64, nComments, nUsers)\n",
    "Friends = Matrix.from_type(INT64, nUsers, nUsers)\n",
    "\n",
    "Likes[0, 1] = 1\n",
    "Likes[0, 2] = 1\n",
    "Likes[1, 0] = 1\n",
    "Likes[1, 2] = 1\n",
    "Likes[1, 3] = 1\n",
    "\n",
    "Friends[0, 1] = 1\n",
    "Friends[1, 2] = 1\n",
    "Friends[2, 3] = 1\n",
    "\n",
    "Friends = Friends + Friends.transpose()\n",
    "\n",
    "[I, J, _] = Likes.to_lists()\n",
    "\n",
    "likesTuples = list(zip(I, J))\n",
    "for c in range(0, nComments):\n",
    "    indices = [ij[1] for ij in likesTuples if ij[0]==c]\n",
    "    slices = tuple(slice(x) for x in indices)\n",
    "    likerFriends = Friends[indices, indices]\n",
    "    #print(likerFriends.to_lists())\n",
    "    components = Vector.from_type(INT64, likerFriends.nrows)\n",
    "    lib.LAGraph_lacc(likerFriends.matrix[0], components.vector)\n",
    "    print(c, components.to_lists()[1])"
   ]
  }
 ],
 "metadata": {
  "kernelspec": {
   "display_name": "Python 3",
   "language": "python",
   "name": "python3"
  },
  "language_info": {
   "codemirror_mode": {
    "name": "ipython",
    "version": 3
   },
   "file_extension": ".py",
   "mimetype": "text/x-python",
   "name": "python",
   "nbconvert_exporter": "python",
   "pygments_lexer": "ipython3",
   "version": "3.6.9-final"
  }
 },
 "nbformat": 4,
 "nbformat_minor": 2
}